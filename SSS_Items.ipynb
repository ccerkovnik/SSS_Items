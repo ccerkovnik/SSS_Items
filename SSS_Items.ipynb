{
 "cells": [
  {
   "cell_type": "code",
   "execution_count": 1,
   "metadata": {},
   "outputs": [],
   "source": [
    "import sqlite3\n",
    "import csv\n",
    "import re"
   ]
  },
  {
   "cell_type": "code",
   "execution_count": 2,
   "metadata": {},
   "outputs": [
    {
     "name": "stdout",
     "output_type": "stream",
     "text": [
      "AR-13990N,Scorpion Needle (used w/      Scorpion Suture Passer)       ,Arthrex                                 ,Arthro Retriever/Passer,5\n",
      "\n"
     ]
    }
   ],
   "source": [
    "with open(\"SSS_Items.csv\",'r')as ifile:\n",
    "    for idx, line in enumerate(ifile):\n",
    "        if idx==3:\n",
    "            print(line)"
   ]
  },
  {
   "cell_type": "code",
   "execution_count": 19,
   "metadata": {},
   "outputs": [],
   "source": [
    "with open(\"SSS_Items.csv\",'r')as ifile:\n",
    "    white=re.compile(r\" +\")\n",
    "    for line in ifile:\n",
    "        white.sub(\" \", line)\n",
    "        \n",
    "        \n",
    "        \n",
    "    \n",
    "    "
   ]
  },
  {
   "cell_type": "code",
   "execution_count": 20,
   "metadata": {},
   "outputs": [],
   "source": [
    "input_file=\"SSS_Items.csv\"\n",
    "db = sqlite3.connect(\"SSS_reprocessing_items.db\")\n",
    "cur = db.cursor()"
   ]
  },
  {
   "cell_type": "code",
   "execution_count": 21,
   "metadata": {},
   "outputs": [],
   "source": [
    "cur.execute('''DROP TABLE IF EXISTS reprocessing_items''')\n",
    "cur.execute('''CREATE TABLE reprocessing_items (\n",
    "    item_num STRING,\n",
    "    description STRING,\n",
    "    vendor_name TEXT,\n",
    "    class TEXT,\n",
    "    full_case_qty INTEGER\n",
    "    \n",
    "    )''')\n",
    "db.commit()"
   ]
  },
  {
   "cell_type": "code",
   "execution_count": 18,
   "metadata": {},
   "outputs": [
    {
     "ename": "ProgrammingError",
     "evalue": "Incorrect number of bindings supplied. The current statement uses 5, and there are 7 supplied.",
     "output_type": "error",
     "traceback": [
      "\u001b[0;31m---------------------------------------------------------------------------\u001b[0m",
      "\u001b[0;31mProgrammingError\u001b[0m                          Traceback (most recent call last)",
      "\u001b[0;32m<ipython-input-18-22182670f73c>\u001b[0m in \u001b[0;36m<module>\u001b[0;34m\u001b[0m\n\u001b[1;32m     11\u001b[0m         cur.execute('''\n\u001b[1;32m     12\u001b[0m             INSERT INTO reprocessing_items (item_num,description,vendor_name,class,full_case_qty\n\u001b[0;32m---> 13\u001b[0;31m             )VALUES(?,?,?,?,?)''', line)\n\u001b[0m\u001b[1;32m     14\u001b[0m         \u001b[0mdb\u001b[0m\u001b[0;34m.\u001b[0m\u001b[0mcommit\u001b[0m\u001b[0;34m(\u001b[0m\u001b[0;34m)\u001b[0m\u001b[0;34m\u001b[0m\u001b[0;34m\u001b[0m\u001b[0m\n",
      "\u001b[0;31mProgrammingError\u001b[0m: Incorrect number of bindings supplied. The current statement uses 5, and there are 7 supplied."
     ]
    }
   ],
   "source": [
    "with open(input_file,'r',encoding=\"Latin-1\") as ifile :\n",
    "    next(ifile) #Skips header\n",
    "    for idx, line in enumerate(ifile.readlines()) :\n",
    "        line = line.strip().split(\",\")\n",
    "        \n",
    "        \n",
    "        \n",
    "        \n",
    "        \n",
    "        \n",
    "        cur.execute('''\n",
    "            INSERT INTO reprocessing_items (item_num,description,vendor_name,class,full_case_qty\n",
    "            )VALUES(?,?,?,?,?)''', line)\n",
    "        db.commit()"
   ]
  },
  {
   "cell_type": "code",
   "execution_count": null,
   "metadata": {},
   "outputs": [],
   "source": []
  }
 ],
 "metadata": {
  "kernelspec": {
   "display_name": "Python 3",
   "language": "python",
   "name": "python3"
  },
  "language_info": {
   "codemirror_mode": {
    "name": "ipython",
    "version": 3
   },
   "file_extension": ".py",
   "mimetype": "text/x-python",
   "name": "python",
   "nbconvert_exporter": "python",
   "pygments_lexer": "ipython3",
   "version": "3.7.3"
  }
 },
 "nbformat": 4,
 "nbformat_minor": 2
}
